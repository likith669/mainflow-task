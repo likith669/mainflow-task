{
  "nbformat": 4,
  "nbformat_minor": 0,
  "metadata": {
    "colab": {
      "provenance": []
    },
    "kernelspec": {
      "name": "python3",
      "display_name": "Python 3"
    },
    "language_info": {
      "name": "python"
    }
  },
  "cells": [
    {
      "cell_type": "code",
      "execution_count": 17,
      "metadata": {
        "id": "5MzEwNNT3yEc"
      },
      "outputs": [],
      "source": [
        "# Task 1\n",
        "def sum_of_two_numbers(a, b):\n",
        "    return a + b\n",
        "\n",
        "# Task 2\n",
        "def odd_or_even(n):\n",
        "    return \"Even\" if n % 2 == 0 else \"Odd\"\n",
        "\n",
        "# Task 3\n",
        "def factorial(n):\n",
        "    result = 1\n",
        "    for i in range(2, n + 1):\n",
        "        result *= i\n",
        "    return result\n",
        "\n",
        "# Task 4\n",
        "def fibonacci(n):\n",
        "    fib_sequence = [0, 1]\n",
        "    for _ in range(n - 2):\n",
        "        fib_sequence.append(fib_sequence[-1] + fib_sequence[-2])\n",
        "    return fib_sequence[:n]\n",
        "\n",
        "# Task 5\n",
        "def reverse_string(s):\n",
        "    return s[::-1]\n",
        "\n",
        "# Task 6\n",
        "def is_palindrome(s):\n",
        "    return s == s[::-1]\n",
        "\n",
        "# Task 7\n",
        "def is_leap_year(year):\n",
        "    return (year % 4 == 0 and year % 100 != 0) or (year % 400 == 0)\n",
        "\n",
        "# Task 8\n",
        "def is_armstrong(n):\n",
        "    digits = str(n)\n",
        "    power = len(digits)\n",
        "    return sum(int(d) ** power for d in digits) == n\n",
        "\n",
        "# Task 9\n",
        "class CustomCipher:\n",
        "    def __init__(self, shift=3):\n",
        "        self.shift = shift\n",
        "        self.alphabet = \"ABCDEFGHIJKLMNOPQRSTUVWXYZ\"\n",
        "\n",
        "    def encrypt(self, text):\n",
        "        result = \"\"\n",
        "        for char in text.upper():\n",
        "            if char in self.alphabet:\n",
        "                new_index = (self.alphabet.index(char) + self.shift) % 26\n",
        "                result += self.alphabet[new_index]\n",
        "            else:\n",
        "                result += char\n",
        "        return result\n",
        "\n",
        "    def decrypt(self, text):\n",
        "        result = \"\"\n",
        "        for char in text.upper():\n",
        "            if char in self.alphabet:\n",
        "                new_index = (self.alphabet.index(char) - self.shift) % 26\n",
        "                result += self.alphabet[new_index]\n",
        "            else:\n",
        "                result += char\n",
        "        return result\n",
        "\n"
      ]
    },
    {
      "cell_type": "code",
      "source": [
        "num1 = int(input(\"Enter the first number: \"))\n",
        "num2 = int(input(\"Enter the second number:\"))\n",
        "result = sum_of_two_numbers(num1, num2)\n",
        "print(\"The sum of\", num1, \"and\", num2, \"is:\", result)"
      ],
      "metadata": {
        "colab": {
          "base_uri": "https://localhost:8080/"
        },
        "id": "w7YnV_DV4bXA",
        "outputId": "b29199ad-d467-4b24-9382-f25dc4d929af"
      },
      "execution_count": 18,
      "outputs": [
        {
          "output_type": "stream",
          "name": "stdout",
          "text": [
            "Enter the first number: 2\n",
            "Enter the second number:3\n",
            "The sum of 2 and 3 is: 5\n"
          ]
        }
      ]
    },
    {
      "cell_type": "code",
      "source": [
        "num1=int(input(\"Enter the number:\"))\n",
        "result=odd_or_even(num1)\n",
        "print(result)"
      ],
      "metadata": {
        "colab": {
          "base_uri": "https://localhost:8080/"
        },
        "id": "0r7mcFO85AcX",
        "outputId": "27451405-f138-4dc3-92cb-95a0282a806e"
      },
      "execution_count": 5,
      "outputs": [
        {
          "output_type": "stream",
          "name": "stdout",
          "text": [
            "Enter the number:8\n",
            "Even\n"
          ]
        }
      ]
    },
    {
      "cell_type": "code",
      "source": [
        "num1=int(input(\"Enter the number:\"))\n",
        "result=factorial(num1)\n",
        "print(result)"
      ],
      "metadata": {
        "colab": {
          "base_uri": "https://localhost:8080/"
        },
        "id": "b01o8VM95EuE",
        "outputId": "3407ef26-da5a-4c5d-95ca-aa47ed3d79e8"
      },
      "execution_count": 6,
      "outputs": [
        {
          "output_type": "stream",
          "name": "stdout",
          "text": [
            "Enter the number:3\n",
            "6\n"
          ]
        }
      ]
    },
    {
      "cell_type": "code",
      "source": [
        "num1 = int(input(\"Enter the number:\"))\n",
        "result = fibonacci(num1)\n",
        "print(result)"
      ],
      "metadata": {
        "colab": {
          "base_uri": "https://localhost:8080/"
        },
        "id": "GqMV6sq35HNB",
        "outputId": "5133e7ea-a85b-4224-a388-cd740e4c9eac"
      },
      "execution_count": 7,
      "outputs": [
        {
          "output_type": "stream",
          "name": "stdout",
          "text": [
            "Enter the number:40\n",
            "[0, 1, 1, 2, 3, 5, 8, 13, 21, 34, 55, 89, 144, 233, 377, 610, 987, 1597, 2584, 4181, 6765, 10946, 17711, 28657, 46368, 75025, 121393, 196418, 317811, 514229, 832040, 1346269, 2178309, 3524578, 5702887, 9227465, 14930352, 24157817, 39088169, 63245986]\n"
          ]
        }
      ]
    },
    {
      "cell_type": "code",
      "source": [
        "text = input(\"Enter the string:\")\n",
        "result = reverse_string(text)\n",
        "print(result)"
      ],
      "metadata": {
        "colab": {
          "base_uri": "https://localhost:8080/"
        },
        "id": "eZ9oayx45LjK",
        "outputId": "43078dde-6a23-4920-a1c4-392101bfd9e9"
      },
      "execution_count": 9,
      "outputs": [
        {
          "output_type": "stream",
          "name": "stdout",
          "text": [
            "Enter the string:adc\n",
            "cda\n"
          ]
        }
      ]
    },
    {
      "cell_type": "code",
      "source": [
        "text = input(\"Enter the string:\")\n",
        "result = is_palindrome(text)\n",
        "print(result)"
      ],
      "metadata": {
        "colab": {
          "base_uri": "https://localhost:8080/"
        },
        "id": "OI1Gipbq5Pi_",
        "outputId": "9da1af33-060a-49f8-bb7a-0ac829ea5ddb"
      },
      "execution_count": 10,
      "outputs": [
        {
          "output_type": "stream",
          "name": "stdout",
          "text": [
            "Enter the string:mam\n",
            "True\n"
          ]
        }
      ]
    },
    {
      "cell_type": "code",
      "source": [
        "year=int(input(\"Enter the year:\"))\n",
        "result=is_leap_year(year)\n",
        "print(result)"
      ],
      "metadata": {
        "colab": {
          "base_uri": "https://localhost:8080/"
        },
        "id": "jGu3Va_a5czr",
        "outputId": "75ef1588-30b2-4093-d66f-fa85855e94e8"
      },
      "execution_count": 11,
      "outputs": [
        {
          "output_type": "stream",
          "name": "stdout",
          "text": [
            "Enter the year:2025\n",
            "False\n"
          ]
        }
      ]
    },
    {
      "cell_type": "code",
      "source": [
        "num1 = int(input(\"Enter the number:\"))\n",
        "result = is_armstrong(num1)\n",
        "print(result)"
      ],
      "metadata": {
        "colab": {
          "base_uri": "https://localhost:8080/"
        },
        "id": "tPROEZSu5hAW",
        "outputId": "6c308010-cbac-4c3d-a85d-f06c4fb5c3a8"
      },
      "execution_count": 12,
      "outputs": [
        {
          "output_type": "stream",
          "name": "stdout",
          "text": [
            "Enter the number:22\n",
            "False\n"
          ]
        }
      ]
    },
    {
      "cell_type": "code",
      "source": [
        "enc = input(\"Enter the string:\")\n",
        "result = cipher.encrypt(enc)\n",
        "print(result)"
      ],
      "metadata": {
        "colab": {
          "base_uri": "https://localhost:8080/"
        },
        "id": "nr6g9v1x5kim",
        "outputId": "22cca002-6e67-4625-f6eb-0ae4981c0603"
      },
      "execution_count": 13,
      "outputs": [
        {
          "output_type": "stream",
          "name": "stdout",
          "text": [
            "Enter the string:abc\n",
            "DEF\n"
          ]
        }
      ]
    },
    {
      "cell_type": "code",
      "source": [
        "dcy= input(\"Enter the string:\")\n",
        "result = cipher.decrypt(dcy)\n",
        "print(result)"
      ],
      "metadata": {
        "colab": {
          "base_uri": "https://localhost:8080/"
        },
        "id": "cRFG_Vez5p3S",
        "outputId": "000a3787-b64d-490a-8760-2b88d709aa3a"
      },
      "execution_count": 19,
      "outputs": [
        {
          "output_type": "stream",
          "name": "stdout",
          "text": [
            "Enter the string:abc\n",
            "XYZ\n"
          ]
        }
      ]
    }
  ]
}